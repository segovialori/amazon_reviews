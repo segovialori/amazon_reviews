{
 "cells": [
  {
   "cell_type": "markdown",
   "metadata": {},
   "source": [
    "# Scrape Amazon Reviews"
   ]
  },
  {
   "cell_type": "markdown",
   "metadata": {},
   "source": [
    "Scraping Amazon Dog Collar reviews for a friend who would like to know what are the main negative words used in the reviews"
   ]
  },
  {
   "cell_type": "markdown",
   "metadata": {},
   "source": [
    "### Imports"
   ]
  },
  {
   "cell_type": "code",
   "execution_count": 4,
   "metadata": {},
   "outputs": [],
   "source": [
    "import requests\n",
    "from requests import get\n",
    "import pandas as pd\n",
    "from bs4 import BeautifulSoup"
   ]
  },
  {
   "cell_type": "markdown",
   "metadata": {},
   "source": [
    "### URL to Scrape"
   ]
  },
  {
   "cell_type": "code",
   "execution_count": 5,
   "metadata": {},
   "outputs": [],
   "source": [
    "# stash away the url in a variable\n",
    "url = \"https://www.amazon.com/Lifetime-Walking-American-Pitbull-Shepherd/product-reviews/B087NQ9V3K/ref=cm_cr_arp_d_viewopt_srt?ie=UTF8&reviewerType=all_reviews&sortBy=recent&pageNumber=1\"\n"
   ]
  },
  {
   "cell_type": "markdown",
   "metadata": {},
   "source": [
    "### Docker workaround using splash"
   ]
  },
  {
   "cell_type": "code",
   "execution_count": 7,
   "metadata": {},
   "outputs": [],
   "source": [
    "# use splash to past the 503 response you would get from trying to scrape without it\n",
    "r = requests.get('http://localhost:8050/render.html', params={'url': url, 'wait': 2})\n"
   ]
  },
  {
   "cell_type": "code",
   "execution_count": 8,
   "metadata": {},
   "outputs": [],
   "source": [
    "# make the review soup\n",
    "soup = BeautifulSoup(r.text, 'html.parser')"
   ]
  },
  {
   "cell_type": "code",
   "execution_count": 9,
   "metadata": {},
   "outputs": [
    {
     "name": "stdout",
     "output_type": "stream",
     "text": [
      "Amazon.com: Customer reviews: W/W Lifetime Gold Dog Chain Collar Walking Metal Chain Collar with Design Secure Buckle,18K Cuban Link Strong Heavy Duty Chew Proof for Medium Dogs(19MM, 15\")\n"
     ]
    }
   ],
   "source": [
    "# check out the title \n",
    "print(soup.title.text)"
   ]
  },
  {
   "cell_type": "code",
   "execution_count": 10,
   "metadata": {},
   "outputs": [],
   "source": [
    "# find all returns in a list that we can loop through\n",
    "reviews = soup.find_all('div', {'data-hook': 'review'})"
   ]
  },
  {
   "cell_type": "code",
   "execution_count": 18,
   "metadata": {},
   "outputs": [
    {
     "name": "stdout",
     "output_type": "stream",
     "text": [
      "{'title': 'So cute!!!', 'rating': 5.0, 'review_body': 'So cute! It’s heavier duty than I was anticipating, but does feel a little cheap. I wouldn’t trust attaching a leash to it, but I don’t think that’s the point of something like this. Ordering another one for my older Vizsla now!'}\n",
      "{'title': 'Nice quality', 'rating': 5.0, 'review_body': 'Has not changed colors yet. Very comfortable on my dog’s neck. Great value for my money.'}\n",
      "{'title': 'Worth every penny!', 'rating': 5.0, 'review_body': ''}\n",
      "{'title': 'Make sure to measure your dogs neck so it’s a bit loose on them', 'rating': 5.0, 'review_body': 'Everything about the chain was good'}\n",
      "{'title': 'you can do better', 'rating': 1.0, 'review_body': 'i like the finished everything but this chain is not worth at all bcs of this lock not stable my dog skipped trough and i had alot trouble please u can do better'}\n",
      "{'title': 'Perfect for my dog', 'rating': 5.0, 'review_body': 'Is beautiful'}\n",
      "{'title': 'Worth the purchase', 'rating': 5.0, 'review_body': 'Bought this chain for our American Pocket Bully and love it. Everyone compliments his chain. It’s very sturdy, thick, and has a little weight to it. When he outgrows this one, we will buy the exact same product except a bigger size. It came packaged nicely and was shipped in a timely manner.'}\n",
      "{'title': 'Would recommend', 'rating': 5.0, 'review_body': 'The media could not be loaded.\\n                \\n\\n\\n\\n\\xa0My dog is 4 months old weighs 30 pounds. I got the 18in it fits perfect. It’s a little heavy but good quality!'}\n",
      "{'title': 'Strong and sturdy', 'rating': 5.0, 'review_body': 'Pretty good fit for 18 in. My dog doesnt even mind putting it on the first time.'}\n",
      "{'title': 'Love it', 'rating': 5.0, 'review_body': 'My boy looks so good in those Cuban link chain.'}\n"
     ]
    }
   ],
   "source": [
    "# create loop to grab title, rating, and review\n",
    "for item in reviews:\n",
    "    # make into a dictionary by turning title, rating, and body into keys and data that we are\n",
    "    # scraping into values\n",
    "    review = {\n",
    "    'product': soup.title.text.replace('Amazon.com: Customer reviews:', '').strip(),\n",
    "    'title' : item.find('a', {'data-hook': 'review-title'}).text.strip(),\n",
    "    'rating' : float(item.find('i', {'data-hook': 'review-star-rating'}).text.replace('out of 5 stars', '').strip()),\n",
    "    'review_body' : item.find('span', {'data-hook': 'review-body'}).text.strip(),}\n",
    "    print(review)\n",
    "    \n",
    "    "
   ]
  },
  {
   "cell_type": "code",
   "execution_count": null,
   "metadata": {},
   "outputs": [],
   "source": []
  },
  {
   "cell_type": "code",
   "execution_count": null,
   "metadata": {},
   "outputs": [],
   "source": []
  },
  {
   "cell_type": "markdown",
   "metadata": {},
   "source": [
    "### Check Response"
   ]
  },
  {
   "cell_type": "code",
   "execution_count": 3,
   "metadata": {},
   "outputs": [],
   "source": [
    "response = get(url)"
   ]
  },
  {
   "cell_type": "code",
   "execution_count": 4,
   "metadata": {},
   "outputs": [
    {
     "data": {
      "text/plain": [
       "<Response [503]>"
      ]
     },
     "execution_count": 4,
     "metadata": {},
     "output_type": "execute_result"
    }
   ],
   "source": [
    "response"
   ]
  },
  {
   "cell_type": "markdown",
   "metadata": {},
   "source": [
    "Apparently Amazon does not like scrapers.  This is not the response we want, so a work around is needed.  "
   ]
  },
  {
   "cell_type": "code",
   "execution_count": null,
   "metadata": {},
   "outputs": [],
   "source": []
  }
 ],
 "metadata": {
  "kernelspec": {
   "display_name": "Python 3",
   "language": "python",
   "name": "python3"
  },
  "language_info": {
   "codemirror_mode": {
    "name": "ipython",
    "version": 3
   },
   "file_extension": ".py",
   "mimetype": "text/x-python",
   "name": "python",
   "nbconvert_exporter": "python",
   "pygments_lexer": "ipython3",
   "version": "3.8.5"
  }
 },
 "nbformat": 4,
 "nbformat_minor": 4
}
