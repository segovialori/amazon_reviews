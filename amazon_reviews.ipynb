{
 "cells": [
  {
   "cell_type": "markdown",
   "metadata": {},
   "source": [
    "# Scrape Amazon Reviews"
   ]
  },
  {
   "cell_type": "markdown",
   "metadata": {},
   "source": [
    "Scraping Amazon Dog Collar reviews for a friend who would like some analysis on what factors might be driving negative reviews.  Will need to install docker to use splash to scrape amazon.  "
   ]
  },
  {
   "cell_type": "markdown",
   "metadata": {},
   "source": [
    "### Imports"
   ]
  },
  {
   "cell_type": "code",
   "execution_count": 1,
   "metadata": {},
   "outputs": [],
   "source": [
    "import requests\n",
    "from requests import get\n",
    "import pandas as pd\n",
    "from bs4 import BeautifulSoup"
   ]
  },
  {
   "cell_type": "markdown",
   "metadata": {},
   "source": [
    "### URL to Scrape"
   ]
  },
  {
   "cell_type": "code",
   "execution_count": 5,
   "metadata": {},
   "outputs": [],
   "source": [
    "# stash away the url in a variable\n",
    "url = \"https://www.amazon.com/Lifetime-Walking-American-Pitbull-Shepherd/product-reviews/B087NQ9V3K/ref=cm_cr_arp_d_viewopt_srt?ie=UTF8&reviewerType=all_reviews&sortBy=recent&pageNumber=1\"\n",
    "reviewlist = []"
   ]
  },
  {
   "cell_type": "markdown",
   "metadata": {},
   "source": [
    "### Docker workaround using splash"
   ]
  },
  {
   "cell_type": "code",
   "execution_count": 7,
   "metadata": {},
   "outputs": [],
   "source": [
    "# use splash to past the 503 response you would get from trying to scrape without it\n",
    "r = requests.get('http://localhost:8050/render.html', params={'url': url, 'wait': 2})\n"
   ]
  },
  {
   "cell_type": "code",
   "execution_count": 8,
   "metadata": {},
   "outputs": [],
   "source": [
    "# make the review soup\n",
    "soup = BeautifulSoup(r.text, 'html.parser')"
   ]
  },
  {
   "cell_type": "code",
   "execution_count": 9,
   "metadata": {},
   "outputs": [
    {
     "name": "stdout",
     "output_type": "stream",
     "text": [
      "Amazon.com: Customer reviews: W/W Lifetime Gold Dog Chain Collar Walking Metal Chain Collar with Design Secure Buckle,18K Cuban Link Strong Heavy Duty Chew Proof for Medium Dogs(19MM, 15\")\n"
     ]
    }
   ],
   "source": [
    "# check out the title \n",
    "print(soup.title.text)"
   ]
  },
  {
   "cell_type": "code",
   "execution_count": 10,
   "metadata": {},
   "outputs": [],
   "source": [
    "# find all returns in a list that we can loop through\n",
    "reviews = soup.find_all('div', {'data-hook': 'review'})"
   ]
  },
  {
   "cell_type": "code",
   "execution_count": 19,
   "metadata": {},
   "outputs": [],
   "source": [
    "# create loop to grab title, rating, and review\n",
    "for item in reviews:\n",
    "    # make into a dictionary by turning title, rating, and body into keys and data that we are\n",
    "    # scraping into values\n",
    "    review = {\n",
    "    'product': soup.title.text.replace('Amazon.com: Customer reviews:', '').strip(),\n",
    "    'title' : item.find('a', {'data-hook': 'review-title'}).text.strip(),\n",
    "    'rating' : float(item.find('i', {'data-hook': 'review-star-rating'}).text.replace('out of 5 stars', '').strip()),\n",
    "    'review_body' : item.find('span', {'data-hook': 'review-body'}).text.strip(),}\n",
    "    \n",
    "    \n",
    "    "
   ]
  },
  {
   "cell_type": "markdown",
   "metadata": {},
   "source": [
    "### Make everything into useful functions"
   ]
  },
  {
   "cell_type": "code",
   "execution_count": 2,
   "metadata": {},
   "outputs": [],
   "source": [
    "def get_soup(url):\n",
    "    r = requests.get('http://localhost:8050/render.html', params={'url': url, 'wait': 2})\n",
    "    soup = BeautifulSoup(r.text, 'html.parser')\n",
    "    return soup"
   ]
  },
  {
   "cell_type": "code",
   "execution_count": 3,
   "metadata": {},
   "outputs": [],
   "source": [
    "reviewlist = []"
   ]
  },
  {
   "cell_type": "code",
   "execution_count": 4,
   "metadata": {},
   "outputs": [],
   "source": [
    "def get_reviews(soup):\n",
    "    reviews = soup.find_all('div', {'data-hook': 'review'})\n",
    "    try:\n",
    "        for item in reviews:\n",
    "            review = {\n",
    "            'product': soup.title.text.replace('Amazon.com: Customer reviews:', '').strip(),\n",
    "            'title' : item.find('a', {'data-hook': 'review-title'}).text.strip(),\n",
    "            'rating' : float(item.find('i', {'data-hook': 'review-star-rating'}).text.replace('out of 5 stars', '').strip()),\n",
    "            'review_body' : item.find('span', {'data-hook': 'review-body'}).text.strip(),\n",
    "            }\n",
    "            reviewlist.append(review)\n",
    "    except:\n",
    "        pass"
   ]
  },
  {
   "cell_type": "code",
   "execution_count": 5,
   "metadata": {},
   "outputs": [],
   "source": [
    "soup = get_soup('https://www.amazon.com/Lifetime-Walking-American-Pitbull-Shepherd/product-reviews/B087NQ9V3K/ref=cm_cr_arp_d_viewopt_srt?ie=UTF8&reviewerType=all_reviews&sortBy=recent&pageNumber=1')"
   ]
  },
  {
   "cell_type": "code",
   "execution_count": 6,
   "metadata": {},
   "outputs": [],
   "source": [
    "get_reviews(soup)"
   ]
  },
  {
   "cell_type": "code",
   "execution_count": 7,
   "metadata": {},
   "outputs": [
    {
     "name": "stdout",
     "output_type": "stream",
     "text": [
      "10\n"
     ]
    }
   ],
   "source": [
    "print(len(reviewlist))"
   ]
  },
  {
   "cell_type": "code",
   "execution_count": 8,
   "metadata": {},
   "outputs": [
    {
     "name": "stdout",
     "output_type": "stream",
     "text": [
      "{'product': 'W/W Lifetime Gold Dog Chain Collar Walking Metal Chain Collar with Design Secure Buckle,18K Cuban Link Strong Heavy Duty Chew Proof for Medium Dogs(19MM, 15\")', 'title': 'Chain', 'rating': 4.0, 'review_body': 'Heavy chain, good quality. Rott puppy doesn’t mind. I’ll buy another when she outgrows the first one. Only complaint is the locking mechanism. It has two prongs you pinch to lock and one of them often comes out and the chain only stays on because it sort of jams. I have to re-click it fairly often. It has come completely off a couple times too so just be careful and keep your eye out. If your dog doesn’t come when called and the chain falls off outside you may be a little stressed 😅'}\n"
     ]
    }
   ],
   "source": [
    "print(reviewlist[0])"
   ]
  },
  {
   "cell_type": "markdown",
   "metadata": {},
   "source": [
    "### Deal with pages"
   ]
  },
  {
   "cell_type": "code",
   "execution_count": 9,
   "metadata": {},
   "outputs": [
    {
     "name": "stdout",
     "output_type": "stream",
     "text": [
      "Getting page: 1\n",
      "20\n",
      "Getting page: 2\n",
      "30\n",
      "Getting page: 3\n",
      "40\n",
      "Getting page: 4\n",
      "50\n",
      "Getting page: 5\n",
      "60\n",
      "Getting page: 6\n",
      "70\n",
      "Getting page: 7\n",
      "80\n",
      "Getting page: 8\n",
      "90\n",
      "Getting page: 9\n",
      "100\n"
     ]
    }
   ],
   "source": [
    "for x in range(1,10):\n",
    "    soup = get_soup(f'https://www.amazon.com/Lifetime-Walking-American-Pitbull-Shepherd/product-reviews/B087NQ9V3K/ref=cm_cr_arp_d_viewopt_srt?ie=UTF8&reviewerType=all_reviews&sortBy=recent&pageNumber={x}')\n",
    "    print(f'Getting page: {x}')\n",
    "    get_reviews(soup)\n",
    "    print(len(reviewlist))\n",
    "    if not soup.find('li', {'class': 'a-disabled a-last'}):\n",
    "        pass\n",
    "    else:\n",
    "        break\n"
   ]
  },
  {
   "cell_type": "markdown",
   "metadata": {},
   "source": [
    "### Clean up"
   ]
  },
  {
   "cell_type": "code",
   "execution_count": 12,
   "metadata": {},
   "outputs": [],
   "source": [
    "#imports to help with cleaning\n",
    "import unicodedata\n",
    "import re\n",
    "import json\n",
    "\n",
    "import nltk\n",
    "from nltk.tokenize.toktok import ToktokTokenizer\n",
    "from nltk.corpus import stopwords\n",
    "\n",
    "import pandas as pd\n"
   ]
  },
  {
   "cell_type": "code",
   "execution_count": null,
   "metadata": {},
   "outputs": [],
   "source": []
  },
  {
   "cell_type": "code",
   "execution_count": null,
   "metadata": {},
   "outputs": [],
   "source": []
  },
  {
   "cell_type": "code",
   "execution_count": null,
   "metadata": {},
   "outputs": [],
   "source": []
  },
  {
   "cell_type": "code",
   "execution_count": null,
   "metadata": {},
   "outputs": [],
   "source": []
  },
  {
   "cell_type": "markdown",
   "metadata": {},
   "source": [
    "### Make into dataframe"
   ]
  },
  {
   "cell_type": "code",
   "execution_count": 13,
   "metadata": {},
   "outputs": [],
   "source": [
    "df = pd.DataFrame(reviewlist)"
   ]
  },
  {
   "cell_type": "code",
   "execution_count": 15,
   "metadata": {},
   "outputs": [
    {
     "data": {
      "text/html": [
       "<div>\n",
       "<style scoped>\n",
       "    .dataframe tbody tr th:only-of-type {\n",
       "        vertical-align: middle;\n",
       "    }\n",
       "\n",
       "    .dataframe tbody tr th {\n",
       "        vertical-align: top;\n",
       "    }\n",
       "\n",
       "    .dataframe thead th {\n",
       "        text-align: right;\n",
       "    }\n",
       "</style>\n",
       "<table border=\"1\" class=\"dataframe\">\n",
       "  <thead>\n",
       "    <tr style=\"text-align: right;\">\n",
       "      <th></th>\n",
       "      <th>product</th>\n",
       "      <th>title</th>\n",
       "      <th>rating</th>\n",
       "      <th>review_body</th>\n",
       "    </tr>\n",
       "  </thead>\n",
       "  <tbody>\n",
       "    <tr>\n",
       "      <th>0</th>\n",
       "      <td>W/W Lifetime Gold Dog Chain Collar Walking Met...</td>\n",
       "      <td>So cute!!!</td>\n",
       "      <td>5.0</td>\n",
       "      <td>So cute! It’s heavier duty than I was anticipa...</td>\n",
       "    </tr>\n",
       "    <tr>\n",
       "      <th>1</th>\n",
       "      <td>W/W Lifetime Gold Dog Chain Collar Walking Met...</td>\n",
       "      <td>Nice quality</td>\n",
       "      <td>5.0</td>\n",
       "      <td>Has not changed colors yet. Very comfortable o...</td>\n",
       "    </tr>\n",
       "    <tr>\n",
       "      <th>2</th>\n",
       "      <td>W/W Lifetime Gold Dog Chain Collar Walking Met...</td>\n",
       "      <td>Worth every penny!</td>\n",
       "      <td>5.0</td>\n",
       "      <td></td>\n",
       "    </tr>\n",
       "    <tr>\n",
       "      <th>3</th>\n",
       "      <td>W/W Lifetime Gold Dog Chain Collar Walking Met...</td>\n",
       "      <td>Make sure to measure your dogs neck so it’s a ...</td>\n",
       "      <td>5.0</td>\n",
       "      <td>Everything about the chain was good</td>\n",
       "    </tr>\n",
       "    <tr>\n",
       "      <th>4</th>\n",
       "      <td>W/W Lifetime Gold Dog Chain Collar Walking Met...</td>\n",
       "      <td>you can do better</td>\n",
       "      <td>1.0</td>\n",
       "      <td>i like the finished everything but this chain ...</td>\n",
       "    </tr>\n",
       "  </tbody>\n",
       "</table>\n",
       "</div>"
      ],
      "text/plain": [
       "                                             product  \\\n",
       "0  W/W Lifetime Gold Dog Chain Collar Walking Met...   \n",
       "1  W/W Lifetime Gold Dog Chain Collar Walking Met...   \n",
       "2  W/W Lifetime Gold Dog Chain Collar Walking Met...   \n",
       "3  W/W Lifetime Gold Dog Chain Collar Walking Met...   \n",
       "4  W/W Lifetime Gold Dog Chain Collar Walking Met...   \n",
       "\n",
       "                                               title  rating  \\\n",
       "0                                         So cute!!!     5.0   \n",
       "1                                       Nice quality     5.0   \n",
       "2                                 Worth every penny!     5.0   \n",
       "3  Make sure to measure your dogs neck so it’s a ...     5.0   \n",
       "4                                  you can do better     1.0   \n",
       "\n",
       "                                         review_body  \n",
       "0  So cute! It’s heavier duty than I was anticipa...  \n",
       "1  Has not changed colors yet. Very comfortable o...  \n",
       "2                                                     \n",
       "3                Everything about the chain was good  \n",
       "4  i like the finished everything but this chain ...  "
      ]
     },
     "execution_count": 15,
     "metadata": {},
     "output_type": "execute_result"
    }
   ],
   "source": [
    "df.head()\n"
   ]
  },
  {
   "cell_type": "code",
   "execution_count": 16,
   "metadata": {},
   "outputs": [
    {
     "name": "stdout",
     "output_type": "stream",
     "text": [
      "<class 'pandas.core.frame.DataFrame'>\n",
      "RangeIndex: 100 entries, 0 to 99\n",
      "Data columns (total 4 columns):\n",
      " #   Column       Non-Null Count  Dtype  \n",
      "---  ------       --------------  -----  \n",
      " 0   product      100 non-null    object \n",
      " 1   title        100 non-null    object \n",
      " 2   rating       100 non-null    float64\n",
      " 3   review_body  100 non-null    object \n",
      "dtypes: float64(1), object(3)\n",
      "memory usage: 3.2+ KB\n"
     ]
    }
   ],
   "source": [
    "df.info()"
   ]
  },
  {
   "cell_type": "code",
   "execution_count": null,
   "metadata": {},
   "outputs": [],
   "source": []
  },
  {
   "cell_type": "markdown",
   "metadata": {},
   "source": [
    "### Check Response\n",
    "This was the response before using splash"
   ]
  },
  {
   "cell_type": "code",
   "execution_count": 3,
   "metadata": {},
   "outputs": [],
   "source": [
    "response = get(url)"
   ]
  },
  {
   "cell_type": "code",
   "execution_count": 4,
   "metadata": {},
   "outputs": [
    {
     "data": {
      "text/plain": [
       "<Response [503]>"
      ]
     },
     "execution_count": 4,
     "metadata": {},
     "output_type": "execute_result"
    }
   ],
   "source": [
    "response"
   ]
  },
  {
   "cell_type": "markdown",
   "metadata": {},
   "source": [
    "Apparently Amazon does not like scrapers.  This is not the response we want, so a work around is needed.  "
   ]
  },
  {
   "cell_type": "code",
   "execution_count": null,
   "metadata": {},
   "outputs": [],
   "source": []
  }
 ],
 "metadata": {
  "kernelspec": {
   "display_name": "Python 3",
   "language": "python",
   "name": "python3"
  },
  "language_info": {
   "codemirror_mode": {
    "name": "ipython",
    "version": 3
   },
   "file_extension": ".py",
   "mimetype": "text/x-python",
   "name": "python",
   "nbconvert_exporter": "python",
   "pygments_lexer": "ipython3",
   "version": "3.8.5"
  }
 },
 "nbformat": 4,
 "nbformat_minor": 4
}
